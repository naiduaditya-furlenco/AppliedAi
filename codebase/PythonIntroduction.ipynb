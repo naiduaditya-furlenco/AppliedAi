{
 "cells": [
  {
   "cell_type": "code",
   "execution_count": 1,
   "metadata": {},
   "outputs": [
    {
     "name": "stdout",
     "output_type": "stream",
     "text": [
      "['False', 'None', 'True', 'and', 'as', 'assert', 'break', 'class', 'continue', 'def', 'del', 'elif', 'else', 'except', 'finally', 'for', 'from', 'global', 'if', 'import', 'in', 'is', 'lambda', 'nonlocal', 'not', 'or', 'pass', 'raise', 'return', 'try', 'while', 'with', 'yield']\n"
     ]
    }
   ],
   "source": [
    "import keyword\n",
    "\n",
    "print(keyword.kwlist)\n"
   ]
  },
  {
   "cell_type": "code",
   "execution_count": 2,
   "metadata": {},
   "outputs": [
    {
     "name": "stdout",
     "output_type": "stream",
     "text": [
      "\n",
      "Total number of keywords in python:  33\n"
     ]
    }
   ],
   "source": [
    "print(\"\\nTotal number of keywords in python: \", len(keyword.kwlist))"
   ]
  },
  {
   "cell_type": "code",
   "execution_count": 4,
   "metadata": {},
   "outputs": [
    {
     "name": "stdout",
     "output_type": "stream",
     "text": [
      "Address of variable a:  1732862464\n"
     ]
    }
   ],
   "source": [
    "a = 10\n",
    "\n",
    "print(\"Address of variable a: \", id(a))"
   ]
  },
  {
   "cell_type": "code",
   "execution_count": 5,
   "metadata": {},
   "outputs": [
    {
     "name": "stdout",
     "output_type": "stream",
     "text": [
      "Address of variable x:  1732862240\n",
      "Address of variable y:  1732862240\n",
      "Address of variable y:  1732862208\n"
     ]
    }
   ],
   "source": [
    "x = 3\n",
    "\n",
    "y = 3\n",
    "\n",
    "#Address of variables x and y will be same as the store same values so point to same location.\n",
    "#Python does this to save memory.\n",
    "\n",
    "print(\"Address of variable x: \", id(x))\n",
    "\n",
    "print(\"Address of variable y: \", id(y))\n",
    "\n",
    "\n",
    "#Address of y changes\n",
    "\n",
    "y = 2\n",
    "\n",
    "print(\"Address of variable y: \", id(y))\n",
    "\n",
    "\n",
    "\n"
   ]
  },
  {
   "cell_type": "code",
   "execution_count": null,
   "metadata": {},
   "outputs": [],
   "source": []
  }
 ],
 "metadata": {
  "kernelspec": {
   "display_name": "Python 3",
   "language": "python",
   "name": "python3"
  },
  "language_info": {
   "codemirror_mode": {
    "name": "ipython",
    "version": 3
   },
   "file_extension": ".py",
   "mimetype": "text/x-python",
   "name": "python",
   "nbconvert_exporter": "python",
   "pygments_lexer": "ipython3",
   "version": "3.6.3"
  }
 },
 "nbformat": 4,
 "nbformat_minor": 2
}
