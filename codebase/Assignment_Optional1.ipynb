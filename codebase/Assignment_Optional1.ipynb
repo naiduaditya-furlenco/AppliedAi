{
 "cells": [
  {
   "cell_type": "markdown",
   "metadata": {},
   "source": [
    "#### Q1). Write a function that inputs a number and prints the multiplication table of that number."
   ]
  },
  {
   "cell_type": "code",
   "execution_count": 67,
   "metadata": {},
   "outputs": [
    {
     "name": "stdout",
     "output_type": "stream",
     "text": [
      "9 x 1 = 9\n",
      "9 x 2 = 18\n",
      "9 x 3 = 27\n",
      "9 x 4 = 36\n",
      "9 x 5 = 45\n",
      "9 x 6 = 54\n",
      "9 x 7 = 63\n",
      "9 x 8 = 72\n",
      "9 x 9 = 81\n",
      "9 x 10 = 90\n"
     ]
    }
   ],
   "source": [
    "def multiplication_table(number):\n",
    "    \"\"\"\n",
    "Prints the multipliation table of the given number upto 10.\n",
    "    \"\"\"\n",
    "\n",
    "    for i in range(1,11):\n",
    "        print(\"{0} x {1} = {2}\".format(number, i, number*i))\n",
    "        \n",
    "multiplication_table(9)"
   ]
  },
  {
   "cell_type": "markdown",
   "metadata": {},
   "source": [
    "#### Q2). Write a program to print twin primes less than 1000. If two consecutive odd numbers are both prime then they are known as twin primes"
   ]
  },
  {
   "cell_type": "code",
   "execution_count": 68,
   "metadata": {},
   "outputs": [
    {
     "name": "stdout",
     "output_type": "stream",
     "text": [
      "(3, 5)\n",
      "(5, 7)\n",
      "(11, 13)\n",
      "(17, 19)\n",
      "(29, 31)\n",
      "(41, 43)\n",
      "(59, 61)\n",
      "(71, 73)\n",
      "(101, 103)\n",
      "(107, 109)\n",
      "(137, 139)\n",
      "(149, 151)\n",
      "(179, 181)\n",
      "(191, 193)\n",
      "(197, 199)\n",
      "(227, 229)\n",
      "(239, 241)\n",
      "(269, 271)\n",
      "(281, 283)\n",
      "(311, 313)\n",
      "(347, 349)\n",
      "(419, 421)\n",
      "(431, 433)\n",
      "(461, 463)\n",
      "(521, 523)\n",
      "(569, 571)\n",
      "(599, 601)\n",
      "(617, 619)\n",
      "(641, 643)\n",
      "(659, 661)\n",
      "(809, 811)\n",
      "(821, 823)\n",
      "(827, 829)\n",
      "(857, 859)\n",
      "(881, 883)\n"
     ]
    }
   ],
   "source": [
    "def isPrime(number):\n",
    "    \"\"\"\n",
    "Returns true if number is prime else returns false\n",
    "    \"\"\"\n",
    "    if(number < 2):\n",
    "        return False\n",
    "    for i in range(2, number):\n",
    "        if number%i == 0:\n",
    "            return False\n",
    "    return True\n",
    "\n",
    "\n",
    "\n",
    "def getPrimeNumbersAsBooleanList(number):\n",
    "\n",
    "    \"\"\"\n",
    "Returns a boolean list booleanList of size number where booleanList[i] is true if and only if i is a prime number. \n",
    "    \"\"\"\n",
    "    return list(map(isPrime, range(0, number + 1)))\n",
    "\n",
    "\n",
    "def twin_prime_numbers():\n",
    "    \"\"\"\n",
    "Prints all the pairs of twin prime numbers in the format (prime1, prime2).\n",
    "    \"\"\"\n",
    "    booleanList = getPrimeNumbersAsBooleanList(1000)\n",
    "    for i in range(1, 1000):\n",
    "        if(booleanList[i] and booleanList[i + 2]):\n",
    "            print(\"({0}, {1})\".format(i, i + 2))\n",
    "\n",
    "\n",
    "\n",
    "twin_prime_numbers()\n"
   ]
  },
  {
   "cell_type": "markdown",
   "metadata": {},
   "source": [
    "#### Q3). Write a program to find out the prime factors of a number."
   ]
  },
  {
   "cell_type": "code",
   "execution_count": 69,
   "metadata": {},
   "outputs": [
    {
     "name": "stdout",
     "output_type": "stream",
     "text": [
      "[2, 2, 2, 7]\n"
     ]
    }
   ],
   "source": [
    "def prime_factorization(number):\n",
    "    \"\"\"\n",
    "Returns a list of prime factors of the given number\n",
    "    \"\"\"\n",
    "    booleanList = getPrimeNumbersAsBooleanList(number)\n",
    "    factors = []\n",
    "    i = 1\n",
    "    while(i <= number):\n",
    "        if(booleanList[i] and (number % i == 0)):\n",
    "            factors.append(i)\n",
    "            number = number/i\n",
    "        else:\n",
    "            i = i + 1\n",
    "    return factors\n",
    "\n",
    "print(prime_factorization(56))"
   ]
  },
  {
   "cell_type": "markdown",
   "metadata": {},
   "source": [
    "#### Q4). Write a program to implement these formulae of permutations and combinations."
   ]
  },
  {
   "cell_type": "code",
   "execution_count": 70,
   "metadata": {},
   "outputs": [
    {
     "name": "stdout",
     "output_type": "stream",
     "text": [
      "P(10, 2): 90.0\n",
      "C(10, 2): 45.0\n"
     ]
    }
   ],
   "source": [
    "from functools import reduce\n",
    "\n",
    "def factorial(n):\n",
    "    \"\"\"\n",
    "Returns the factorial of n.\n",
    "    \"\"\"\n",
    "\n",
    "    return reduce(lambda x,y: x*y, range(1, n + 1))\n",
    "\n",
    "def permutation(n, r):\n",
    "    \"\"\"\n",
    "returns p(n, r) = n! / (n-r)!.\n",
    "    \"\"\"\n",
    "    return factorial(n)/factorial(n - r)\n",
    "    \n",
    "    \n",
    "def combination(n, r):\n",
    "    \"\"\"\n",
    "returns c(n, r) = n! / (r!*(n-r)!)\n",
    "    \"\"\"\n",
    "    return factorial(n)/(factorial(r)*factorial(n - r))\n",
    "\n",
    "\n",
    "print(\"P({0}, {1}): {2}\".format(10, 2, permutation(10, 2)))\n",
    "\n",
    "print(\"C({0}, {1}): {2}\".format(10, 2, combination(10, 2)))\n"
   ]
  },
  {
   "cell_type": "markdown",
   "metadata": {},
   "source": [
    "#### Q5). Write a function that converts a decimal number to binary number"
   ]
  },
  {
   "cell_type": "code",
   "execution_count": 71,
   "metadata": {},
   "outputs": [
    {
     "data": {
      "text/plain": [
       "'0b10011'"
      ]
     },
     "execution_count": 71,
     "metadata": {},
     "output_type": "execute_result"
    }
   ],
   "source": [
    "def decimalToBinary(number):\n",
    "    \"\"\"\n",
    "Convert decimal number to binary.\n",
    "    \"\"\"\n",
    "    return bin(number)\n",
    "\n",
    "decimalToBinary(19)"
   ]
  },
  {
   "cell_type": "markdown",
   "metadata": {},
   "source": [
    "#### Q6). Write a function cubesum() that accepts an integer and returns the sum of the cubes of individual digits of that number. Use this function to make functions PrintArmstrong() and isArmstrong() to print Armstrong numbers and to find whether is an Armstrong number."
   ]
  },
  {
   "cell_type": "code",
   "execution_count": 72,
   "metadata": {},
   "outputs": [
    {
     "name": "stdout",
     "output_type": "stream",
     "text": [
      "36\n",
      "Cubesum of 371 is 371. \n",
      "Is 371 an Armstrong number? : True\n",
      "Armstrong numbers <= 10000 :\n",
      "1\n",
      "153\n",
      "370\n",
      "371\n",
      "407\n"
     ]
    }
   ],
   "source": [
    "def cubesum(number):\n",
    "    \"\"\"\n",
    "Returns the sum of cubes of the individual digits in the number.\n",
    "    \"\"\"\n",
    "    cubeList = list(map(lambda x : int(x) ** 3, str(number)))\n",
    "    return reduce(lambda x, y: x + y , cubeList)\n",
    "\n",
    "print(cubesum(123))\n",
    "\n",
    "def isArmstrong(number):\n",
    "    \"\"\"\n",
    "Returns true if number is an armstrong number else returns false.\n",
    "    \"\"\"\n",
    "    return (cubesum(number) == number)\n",
    "\n",
    "def printArmstrong(number):\n",
    "    \"\"\"\n",
    "Prints al armstrong numbers <= number\n",
    "    \"\"\"\n",
    "    print(\"Armstrong numbers <= {0} :\".format(number))\n",
    "    for i in range(1, number + 1):\n",
    "        if(isArmstrong(i)):\n",
    "            print(i)\n",
    "\n",
    "print(\"Cubesum of {0} is {1}. \".format(371, cubesum(371)))\n",
    "\n",
    "print(\"Is {0} an Armstrong number? : {1}\".format(371, isArmstrong(371)))\n",
    "\n",
    "printArmstrong(10000)"
   ]
  },
  {
   "cell_type": "markdown",
   "metadata": {},
   "source": [
    "#### Q7). Write a function prodDigits() that inputs a number and returns the product of digits of that number."
   ]
  },
  {
   "cell_type": "code",
   "execution_count": 73,
   "metadata": {},
   "outputs": [
    {
     "name": "stdout",
     "output_type": "stream",
     "text": [
      "Product of digits of 987 is 504\n"
     ]
    }
   ],
   "source": [
    "def prodDigits(number):\n",
    "    \"\"\"\n",
    "Returns a product of digits of the given number.\n",
    "    \"\"\"\n",
    "    return reduce(lambda x, y : int(x)*int(y), str(number))\n",
    "\n",
    "print(\"Product of digits of {0} is {1}\".format(987, prodDigits(987)))"
   ]
  },
  {
   "cell_type": "markdown",
   "metadata": {},
   "source": [
    "#### Q8). Using the function prodDigits() of previous exercise write functions MDR() and MPersistence()"
   ]
  },
  {
   "cell_type": "code",
   "execution_count": 74,
   "metadata": {},
   "outputs": [
    {
     "name": "stdout",
     "output_type": "stream",
     "text": [
      "MDR of 86 is 6: \n",
      "MPersistence of 86 is 3: \n",
      "MDR of 341 is 2: \n",
      "MPersistence of 341 is 2: \n"
     ]
    }
   ],
   "source": [
    "def MDR(number):\n",
    "    \"\"\"\n",
    "Returns MDR of a number.\n",
    "    \"\"\"\n",
    "    return number if len(str(number)) == 1 else MDR(prodDigits(number))\n",
    "\n",
    "def MPersistence(number):\n",
    "    \"\"\"\n",
    "Returns multiplicative resistance of a number\n",
    "    \"\"\"\n",
    "    return 0 if len(str(number)) == 1 else 1 + MPersistence(prodDigits(number))\n",
    "\n",
    "print(\"MDR of {0} is {1}: \".format(86, MDR(86)))\n",
    "\n",
    "print(\"MPersistence of {0} is {1}: \".format(86, MPersistence(86)))\n",
    "\n",
    "print(\"MDR of {0} is {1}: \".format(341, MDR(341)))\n",
    "\n",
    "print(\"MPersistence of {0} is {1}: \".format(341, MPersistence(341)))"
   ]
  },
  {
   "cell_type": "markdown",
   "metadata": {},
   "source": [
    "#### Q9).  Write a function sumPdivisors() that finds the sum of proper divisors of a number."
   ]
  },
  {
   "cell_type": "code",
   "execution_count": 75,
   "metadata": {},
   "outputs": [
    {
     "name": "stdout",
     "output_type": "stream",
     "text": [
      "Sum of proper divisors of 36 is 55.\n",
      "Sum of proper divisors of 1 is 0.\n"
     ]
    }
   ],
   "source": [
    "def sumPdivisors(number):\n",
    "    \"\"\"\n",
    "Returns a sum of proper divisors of a number.\n",
    "    \"\"\"\n",
    "    pDivisors = list(filter(lambda x : number % x == 0, range(1, number)))\n",
    "    sumDivisors = reduce(lambda x, y : x + y, pDivisors, 0)  #3rd argument is 0. This is the default value if iterable is empty.\n",
    "    return sumDivisors\n",
    "\n",
    "print(\"Sum of proper divisors of {0} is {1}.\".format(36, sumPdivisors(36)))\n",
    "\n",
    "print(\"Sum of proper divisors of {0} is {1}.\".format(1, sumPdivisors(1)))"
   ]
  },
  {
   "cell_type": "markdown",
   "metadata": {},
   "source": [
    "#### Q10). Write a program to print all the perfect numbers in a given range"
   ]
  },
  {
   "cell_type": "code",
   "execution_count": 76,
   "metadata": {},
   "outputs": [
    {
     "name": "stdout",
     "output_type": "stream",
     "text": [
      "[6, 28]\n"
     ]
    }
   ],
   "source": [
    "def isPerfectNumber(number):\n",
    "    \"\"\"\n",
    "Returns true if the number is perfect else returns false.\n",
    "    \"\"\"\n",
    "    return number == sumPdivisors(number)\n",
    "\n",
    "def printPerfectNumbers(num1, num2):\n",
    "    \"\"\"\n",
    "Prints a list of perfect numbers in the given range.\n",
    "    \"\"\"\n",
    "    perfectNumbers = list(filter(isPerfectNumber, range(num1, num2+ 1)))\n",
    "    print(perfectNumbers)\n",
    "    \n",
    "printPerfectNumbers(2, 100)    "
   ]
  },
  {
   "cell_type": "markdown",
   "metadata": {},
   "source": [
    "#### Q11). Write a function to print pairs of amicable numbers in a range"
   ]
  },
  {
   "cell_type": "code",
   "execution_count": 77,
   "metadata": {},
   "outputs": [
    {
     "name": "stdout",
     "output_type": "stream",
     "text": [
      "(220, 284)\n",
      "(284, 220)\n"
     ]
    }
   ],
   "source": [
    "def printAmicableNumbers(num1, num2):\n",
    "    \"\"\"\n",
    "Prints all pairs of amicable numbers in a given range.\n",
    "    \"\"\"\n",
    "    for number in range(num1, num2 + 1):\n",
    "        spd = sumPdivisors(number)\n",
    "        if sumPdivisors(spd) == number:\n",
    "            print(\"({0}, {1})\".format(number, spd))\n",
    "            \n",
    "printAmicableNumbers(100, 300)"
   ]
  },
  {
   "cell_type": "markdown",
   "metadata": {},
   "source": [
    "#### Q12). Write a program which can filter odd numbers in a list by using filter function"
   ]
  },
  {
   "cell_type": "code",
   "execution_count": 78,
   "metadata": {},
   "outputs": [
    {
     "name": "stdout",
     "output_type": "stream",
     "text": [
      "[1, 3, 5, 7, 9, 11, 13, 15, 17, 19, 21, 23, 25, 27, 29, 31, 33, 35, 37, 39, 41, 43, 45, 47, 49]\n"
     ]
    }
   ],
   "source": [
    "def filterOddNumbers(lst):\n",
    "    \"\"\"\n",
    "Filters out the even numbers from the given input list and returns a list of odd numbers.\n",
    "    \"\"\"\n",
    "    return list(filter(lambda x : x % 2 != 0, lst))\n",
    "\n",
    "print(filterOddNumbers(range(1, 50)))"
   ]
  },
  {
   "cell_type": "markdown",
   "metadata": {},
   "source": [
    "#### Q13). Write a program which can map() to make a list whose elements are cube of elements in a given list"
   ]
  },
  {
   "cell_type": "code",
   "execution_count": 79,
   "metadata": {},
   "outputs": [
    {
     "name": "stdout",
     "output_type": "stream",
     "text": [
      "[1, 8, 27, 64, 125, 216, 343, 512, 729]\n"
     ]
    }
   ],
   "source": [
    "def cubicElements(lst):\n",
    "    \"\"\"\n",
    "Returns a list whose elements are cubes of the corresponding elements in the input list.\n",
    "    \"\"\"\n",
    "    return list(map(lambda x : x** 3, lst))\n",
    "\n",
    "print(cubicElements(range(1, 10)))"
   ]
  },
  {
   "cell_type": "markdown",
   "metadata": {},
   "source": [
    "#### Q14). Write a program which can map() and filter() to make a list whose elements are cube of even number in a given list"
   ]
  },
  {
   "cell_type": "code",
   "execution_count": 80,
   "metadata": {},
   "outputs": [
    {
     "name": "stdout",
     "output_type": "stream",
     "text": [
      "[8, 64, 216, 512]\n"
     ]
    }
   ],
   "source": [
    "def evenCubicElements(lst):\n",
    "    \"\"\"\n",
    "Filters odd numbers out of the list and returns the list of numbers containing cubes of even numbers in the input list.\n",
    "    \"\"\"\n",
    "    return cubicElements(filter( lambda x : x % 2 == 0,lst))\n",
    "\n",
    "print(evenCubicElements(range(1, 10)))"
   ]
  },
  {
   "cell_type": "code",
   "execution_count": null,
   "metadata": {},
   "outputs": [],
   "source": []
  }
 ],
 "metadata": {
  "kernelspec": {
   "display_name": "Python 3",
   "language": "python",
   "name": "python3"
  },
  "language_info": {
   "codemirror_mode": {
    "name": "ipython",
    "version": 3
   },
   "file_extension": ".py",
   "mimetype": "text/x-python",
   "name": "python",
   "nbconvert_exporter": "python",
   "pygments_lexer": "ipython3",
   "version": "3.6.3"
  }
 },
 "nbformat": 4,
 "nbformat_minor": 2
}
